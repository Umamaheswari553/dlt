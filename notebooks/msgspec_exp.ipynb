{
 "cells": [
  {
   "cell_type": "markdown",
   "id": "e2f19f51-c746-466d-9aa4-883d6a41f0c7",
   "metadata": {},
   "source": [
    "# Experiment: msgspec for dlt as replacement for orjson\n",
    "\n",
    "One of the requirements for DLT's JSON serializer/deserializer is the use of a `custom_encode` function. Although the `msgspec` package offers an option to extend [1] its existing encoding functionality, it does not appear to support custom encoding for natively supported types [2].\n",
    "\n",
    "The following code is an investigation into DLT's test: `test_json.py::test_json_named_tuple`\n"
   ]
  },
  {
   "cell_type": "code",
   "execution_count": 179,
   "id": "5d0122cf-5073-4015-88a8-b168a09caa9b",
   "metadata": {},
   "outputs": [],
   "source": [
    "from dlt.common import Decimal\n",
    "from dlt.common.typing import AnyFun\n",
    "\n",
    "from typing import Any, NamedTuple \n",
    "\n",
    "import msgspec.json\n",
    "\n",
    "class NamedTupleTest(NamedTuple):\n",
    "    str_field: str\n",
    "    dec_field: Decimal\n",
    "\n",
    "def custom_encode(obj: Any) -> Any:\n",
    "    if isinstance(obj, tuple):\n",
    "        return obj._asdict()\n",
    "    elif hasattr(obj, \"asdict\"):\n",
    "        return obj.asdict()\n",
    "    elif hasattr(obj, \"_asdict\"):\n",
    "        return obj._asdict()\n",
    "    raise TypeError(repr(obj) + \" is not JSON serializable\")\n",
    "        "
   ]
  },
  {
   "cell_type": "code",
   "execution_count": 180,
   "id": "f2ccd97b-00a9-4de5-8fa9-459941ab31e8",
   "metadata": {},
   "outputs": [],
   "source": [
    "def dumps(\n",
    "    obj: Any, default: AnyFun = custom_encode\n",
    ") -> bytes:\n",
    "    return msgspec.json.encode(obj, enc_hook=default).decode(\"utf-8\")"
   ]
  },
  {
   "cell_type": "markdown",
   "id": "8a13cd3a-0f88-4be6-9131-e11c173d2668",
   "metadata": {},
   "source": [
    "### Test: expected encoding as dict fails"
   ]
  },
  {
   "cell_type": "code",
   "execution_count": 181,
   "id": "597d1d23-aeda-4cde-b8d1-21ec1dfd8fd0",
   "metadata": {},
   "outputs": [
    {
     "data": {
      "text/plain": [
       "False"
      ]
     },
     "execution_count": 181,
     "metadata": {},
     "output_type": "execute_result"
    }
   ],
   "source": [
    "dumps(NamedTupleTest(\"STR\", Decimal(\"1.3333\"))) == '{\"str_field\":\"STR\",\"dec_field\":\"1.3333\"}'"
   ]
  },
  {
   "cell_type": "markdown",
   "id": "432f4af5-f9ab-4e96-ae95-84dde3212e9c",
   "metadata": {},
   "source": [
    "### Conclusion: msgspec supported native types cannnot be custom encoded"
   ]
  },
  {
   "cell_type": "code",
   "execution_count": 182,
   "id": "6684f8ba-456c-49b4-bf49-6a2d59763439",
   "metadata": {},
   "outputs": [
    {
     "data": {
      "text/plain": [
       "'[\"STR\",\"1.3333\"]'"
      ]
     },
     "execution_count": 182,
     "metadata": {},
     "output_type": "execute_result"
    }
   ],
   "source": [
    "dumps(NamedTupleTest(\"STR\", Decimal(\"1.3333\")))"
   ]
  },
  {
   "cell_type": "code",
   "execution_count": 183,
   "id": "40902547-3e84-4030-bffb-b7dad5e7137c",
   "metadata": {},
   "outputs": [
    {
     "data": {
      "text/plain": [
       "{'str_field': 'STR', 'dec_field': Decimal('1.3333')}"
      ]
     },
     "execution_count": 183,
     "metadata": {},
     "output_type": "execute_result"
    }
   ],
   "source": [
    "NamedTupleTest(\"STR\", Decimal(\"1.3333\"))._asdict()"
   ]
  },
  {
   "cell_type": "code",
   "execution_count": 184,
   "id": "e4e818a4-0cb5-4e98-9b0e-f46c01d41c20",
   "metadata": {},
   "outputs": [
    {
     "data": {
      "text/plain": [
       "True"
      ]
     },
     "execution_count": 184,
     "metadata": {},
     "output_type": "execute_result"
    }
   ],
   "source": [
    "isinstance(NamedTupleTest(\"STR\", Decimal(\"1.3333\")), tuple)"
   ]
  },
  {
   "cell_type": "markdown",
   "id": "19236e6a-1011-49c3-a5f1-580807edc0ea",
   "metadata": {},
   "source": [
    "### References\n",
    "- [1] https://jcristharif.com/msgspec/extending.html\n",
    "- [2] https://jcristharif.com/msgspec/supported-types.html"
   ]
  }
 ],
 "metadata": {
  "kernelspec": {
   "display_name": "Python 3 (ipykernel)",
   "language": "python",
   "name": "python3"
  },
  "language_info": {
   "codemirror_mode": {
    "name": "ipython",
    "version": 3
   },
   "file_extension": ".py",
   "mimetype": "text/x-python",
   "name": "python",
   "nbconvert_exporter": "python",
   "pygments_lexer": "ipython3",
   "version": "3.8.19"
  }
 },
 "nbformat": 4,
 "nbformat_minor": 5
}
